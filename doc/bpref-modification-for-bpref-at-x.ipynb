{
 "cells": [
  {
   "cell_type": "markdown",
   "metadata": {},
   "source": [
    "# Bpref Modification for Bpref@*x*"
   ]
  },
  {
   "cell_type": "code",
   "execution_count": 1,
   "metadata": {
    "collapsed": true
   },
   "outputs": [],
   "source": [
    "import sys\n",
    "import logging\n",
    "\n",
    "# Setup desired logging level and format\n",
    "log_level = logging.INFO\n",
    "log_formatter = logging.Formatter('%(asctime)s - %(name)s - %(levelname)s - %(message)s')\n",
    "\n",
    "# Get hierarych top logger\n",
    "logger = logging.getLogger()\n",
    "# Alternatively work only on some specific logger inside the hierarchy\n",
    "# log_gensim = logging.getLogger('gensim')\n",
    "# log_gensim_word2vec = logging.getLogger('gensim.models.word2vec')\n",
    "\n",
    "# Remove all the current log handlers to not log every message multiple times\n",
    "[logger.removeHandler(h) for h in logger.handlers]\n",
    "\n",
    "# Create new console log handler\n",
    "log_ch = logging.StreamHandler()\n",
    "# Set logging format of the log handler\n",
    "log_ch.setFormatter(log_formatter)\n",
    "# Log verbosity can be decreased per log handler, if necessary\n",
    "#log_ch.setLevel(logging.INFO)\n",
    "# Add our console log handler\n",
    "logger.addHandler(log_ch)\n",
    "\n",
    "# Set logger object verbosity\n",
    "logger.setLevel(log_level)"
   ]
  },
  {
   "cell_type": "markdown",
   "metadata": {},
   "source": [
    "# Input Data"
   ]
  },
  {
   "cell_type": "code",
   "execution_count": 2,
   "metadata": {
    "collapsed": true
   },
   "outputs": [],
   "source": [
    "at = 5\n",
    "\n",
    "ground_truth = [\n",
    "    # topic_id,  document_id,  judgement\n",
    "    ('topic_1', 'document_a', 'relevant'),\n",
    "    ('topic_1', 'document_b', 'irelevant'),\n",
    "    ('topic_1', 'document_c', 'relevant'),\n",
    "    ('topic_1', 'document_d', 'relevant'),\n",
    "    ('topic_1', 'document_e', 'relevant'),\n",
    "    ('topic_1', 'document_f', 'irelevant'),\n",
    "    ('topic_1', 'document_h', 'relevant'),\n",
    "    ('topic_1', 'document_i', 'relevant'),\n",
    "    ('topic_1', 'document_j', 'relevant'),\n",
    "    ('topic_1', 'document_k', 'relevant'),\n",
    "    ('topic_1', 'document_l', 'irelevant'),\n",
    "    ('topic_1', 'document_m', 'irelevant'),\n",
    "    ('topic_1', 'document_n', 'relevant'),\n",
    "    ('topic_1', 'document_p', 'irelevant'),\n",
    "    ('topic_1', 'document_q', 'irelevant'),\n",
    "    ('topic_1', 'document_r', 'relevant'),\n",
    "    ('topic_1', 'document_s', 'irelevant'),\n",
    "    ('topic_1', 'document_t', 'irelevant'),\n",
    "    ('topic_1', 'document_u', 'irelevant'),\n",
    "    ('topic_1', 'document_w', 'relevant'),\n",
    "    ('topic_1', 'document_x', 'irelevant'),\n",
    "    ('topic_1', 'document_z', 'relevant'),\n",
    "]\n",
    "\n",
    "results = [\n",
    "    # topic_id,  document_id, position, score, judgement\n",
    "    ('topic_1', 'document_a', 0,  1.00, 'relevant'),\n",
    "    ('topic_1', 'document_b', 1,  1.00, 'irelevant'),\n",
    "    ('topic_1', 'document_c', 2,  1.00, 'relevant'),\n",
    "    ('topic_1', 'document_d', 3,  1.00, 'relevant'),\n",
    "    ('topic_1', 'document_e', 4,  1.00, 'relevant'),\n",
    "    ('topic_1', 'document_f', 5,  1.00, 'irelevant'),\n",
    "    ('topic_1', 'document_g', 6,  1.00, 'not judged'),\n",
    "    ('topic_1', 'document_h', 7,  1.00, 'relevant'),\n",
    "    ('topic_1', 'document_i', 8,  0.98, 'relevant'),\n",
    "    ('topic_1', 'document_j', 9,  0.97, 'relevant'),\n",
    "    ('topic_1', 'document_k', 10, 0.93, 'relevant'),\n",
    "    ('topic_1', 'document_l', 11, 0.93, 'irelevant'),\n",
    "    ('topic_1', 'document_m', 12, 0.93, 'irelevant'),\n",
    "    ('topic_1', 'document_n', 13, 0.93, 'relevant'),\n",
    "    ('topic_1', 'document_o', 14, 0.93, 'not judged'),\n",
    "    ('topic_1', 'document_p', 15, 0.93, 'irelevant'),\n",
    "    ('topic_1', 'document_q', 16, 0.93, 'irelevant'),\n",
    "    ('topic_1', 'document_r', 17, 0.93, 'relevant'),\n",
    "    ('topic_1', 'document_s', 18, 0.92, 'irelevant'),\n",
    "    ('topic_1', 'document_t', 19, 0.92, 'irelevant'),\n",
    "    ('topic_1', 'document_u', 20, 0.91, 'irelevant'),\n",
    "    ('topic_1', 'document_v', 21, 0.89, 'not judged'),\n",
    "    ('topic_1', 'document_w', 22, 0.88, 'relevant'),\n",
    "    ('topic_1', 'document_x', 23, 0.88, 'irelevant'),\n",
    "    ('topic_1', 'document_y', 24, 0.83, 'not judged'),\n",
    "    ('topic_1', 'document_z', 25, 0.83, 'relevant'),\n",
    "]"
   ]
  },
  {
   "cell_type": "markdown",
   "metadata": {},
   "source": [
    "# Bpref Implementation"
   ]
  },
  {
   "cell_type": "markdown",
   "metadata": {},
   "source": [
    "    bpref = \\frac{1}{R} \\sum_r{\\left(1 - \\frac{number\\ of\\ n\\ above\\ r}{R}\\right)}\n",
    "\n",
    "See: https://dx.doi.org/10.1145/1008992.1009000\n",
    "\n",
    "Actually using trac_eval implementation variant (see: http://icb.med.cornell.edu/wiki/index.php/BPrefTrecEval2006)\n",
    "\n",
    "    bpref = \\frac{1}{R} \\sum_r{\\left(1 - \\frac{min(number\\ of\\ n\\ above\\ r, R)}{min(N, R)}\\right)}\n",
    "\n",
    "but further modified to work correctly on result lists with lower number of results (Bref@x) than the number of\n",
    "known relevant results in ground truth (R):\n",
    "\n",
    "    bpref = \\frac{1}{min(R, x)} \\sum_r{\\left(1 - \\frac{min(number\\ of\\ n\\ above\\ r, R)}{min(N, R)}\\right)}"
   ]
  },
  {
   "cell_type": "markdown",
   "metadata": {},
   "source": [
    "## Original Bpref ``trec_eval`` Implementation"
   ]
  },
  {
   "cell_type": "code",
   "execution_count": 3,
   "metadata": {
    "collapsed": true
   },
   "outputs": [],
   "source": [
    "def bpref_trec_eval(ground_truth, results, at=None):\n",
    "    R = len([doc for doc in ground_truth if doc[2] == 'relevant'])\n",
    "    logger.info(\"R is %d\" % R)\n",
    "    N = len([doc for doc in ground_truth if doc[2] == 'irelevant'])\n",
    "    logger.info(\"N is %d\" % N)\n",
    "    # Iterate over list of the results and compute Bpref on documents with known (i)relevance\n",
    "    bpref_inner_sum = 0.0\n",
    "    bpref_inner_seen_non_relevant = 0.0\n",
    "    for i, r in enumerate(results):\n",
    "        if at and i >= at:\n",
    "            break\n",
    "        if r[4] == 'relevant':\n",
    "            logger.debug(\"Bpref evaluation: using relevant result %s\", r)\n",
    "            sum = 1 - (float(min(bpref_inner_seen_non_relevant, R)) / (min(N, R)))\n",
    "            logger.debug(\"Bpref evaluation: item sum = %s = 1 - ((min(%s, %s)) / (min(%s, %s)))\",\n",
    "                         sum, bpref_inner_seen_non_relevant, R, N, R)\n",
    "            bpref_inner_sum += sum\n",
    "            logger.debug(\"Bpref evaluation: current inner sum = %s\", bpref_inner_sum)\n",
    "        elif r[4] == 'irelevant':\n",
    "            logger.debug(\"Bpref evaluation: incrementing counver for irrelevant result %s\", r)\n",
    "            bpref_inner_seen_non_relevant += 1\n",
    "    bpref = (1.0 / R) * float(bpref_inner_sum)\n",
    "    logger.info(\"Bpref result: bpref = %s = (1.0 / %s) * %s\", bpref, R, bpref_inner_sum)"
   ]
  },
  {
   "cell_type": "markdown",
   "metadata": {},
   "source": [
    "## Modified Bpref Implementation Suitable for Bpref@*x*"
   ]
  },
  {
   "cell_type": "code",
   "execution_count": 4,
   "metadata": {
    "collapsed": true
   },
   "outputs": [],
   "source": [
    "def bpref_at_suitable(ground_truth, results, at=None):\n",
    "    R = len([doc for doc in ground_truth if doc[2] == 'relevant'])\n",
    "    logger.info(\"R is %d\" % R)\n",
    "    N = len([doc for doc in ground_truth if doc[2] == 'irelevant'])\n",
    "    logger.info(\"N is %d\" % N)\n",
    "    bpref_inner_sum = 0.0\n",
    "    bpref_inner_seen_non_relevant = 0.0\n",
    "    for i, r in enumerate(results):\n",
    "        if at and i >= at:\n",
    "            break\n",
    "        if r[4] == 'relevant':\n",
    "            logger.debug(\"Bpref evaluation: using relevant result %s\", r)\n",
    "            sum = 1 - (float(min(bpref_inner_seen_non_relevant, R)) / (min(N, R)))\n",
    "            logger.debug(\"Bpref evaluation: item sum = %s = 1 - ((min(%s, %s)) / (min(%s, %s)))\",\n",
    "                         sum, bpref_inner_seen_non_relevant, R, N, R)\n",
    "            bpref_inner_sum += sum\n",
    "            logger.debug(\"Bpref evaluation: current inner sum = %s\", bpref_inner_sum)\n",
    "        elif r[4] == 'irelevant':\n",
    "            logger.debug(\"Bpref evaluation: incrementing counver for irrelevant result %s\", r)\n",
    "            bpref_inner_seen_non_relevant += 1\n",
    "    bpref = (1.0 / min(R, at if at else R)) * float(bpref_inner_sum)\n",
    "    logger.info(\"Bpref result: bpref = %s = (1.0 / %s) * %s\", bpref, min(R, at if at else R), bpref_inner_sum)"
   ]
  },
  {
   "cell_type": "markdown",
   "metadata": {},
   "source": [
    "# Bpref Computation"
   ]
  },
  {
   "cell_type": "markdown",
   "metadata": {},
   "source": [
    "## Original Bpref ``trec_eval`` Implementation"
   ]
  },
  {
   "cell_type": "markdown",
   "metadata": {},
   "source": [
    "### All Results\n",
    "\n",
    "Number of results (*x*) is larger than number of known relevant documents in ground truth (*R*)."
   ]
  },
  {
   "cell_type": "code",
   "execution_count": 5,
   "metadata": {
    "collapsed": false,
    "scrolled": true
   },
   "outputs": [
    {
     "name": "stderr",
     "output_type": "stream",
     "text": [
      "2016-08-29 13:18:50,235 - root - INFO - R is 12\n",
      "2016-08-29 13:18:50,236 - root - INFO - N is 10\n",
      "2016-08-29 13:18:50,236 - root - INFO - Bpref result: bpref = 0.6666666666666665 = (1.0 / 12) * 7.999999999999999\n"
     ]
    }
   ],
   "source": [
    "# Iterate over list of the results and compute Bpref on documents with known (i)relevance\n",
    "bpref_trec_eval(ground_truth, results)"
   ]
  },
  {
   "cell_type": "markdown",
   "metadata": {},
   "source": [
    "### Bpref@5\n",
    "\n",
    "Number of results (*x* = 5) is lower than number of known relevant documents in ground truth (*R*)."
   ]
  },
  {
   "cell_type": "code",
   "execution_count": 6,
   "metadata": {
    "collapsed": false,
    "scrolled": false
   },
   "outputs": [
    {
     "name": "stderr",
     "output_type": "stream",
     "text": [
      "2016-08-29 13:18:50,267 - root - INFO - R is 12\n",
      "2016-08-29 13:18:50,267 - root - INFO - N is 10\n",
      "2016-08-29 13:18:50,268 - root - INFO - Bpref result: bpref = 0.3083333333333333 = (1.0 / 12) * 3.6999999999999997\n"
     ]
    }
   ],
   "source": [
    "# Iterate over first `at` results in the list of the results and compute Bpref on documents with known (i)relevance\n",
    "bpref_trec_eval(ground_truth, results, at)"
   ]
  },
  {
   "cell_type": "markdown",
   "metadata": {},
   "source": [
    "## Modified Bpref Implementation Suitable for Bpref@*x*"
   ]
  },
  {
   "cell_type": "markdown",
   "metadata": {},
   "source": [
    "### All Results\n",
    "\n",
    "Number of results (*x*) is larger than number of known relevant documents in ground truth (*R*)."
   ]
  },
  {
   "cell_type": "code",
   "execution_count": 7,
   "metadata": {
    "collapsed": false,
    "scrolled": true
   },
   "outputs": [
    {
     "name": "stderr",
     "output_type": "stream",
     "text": [
      "2016-08-29 13:18:50,298 - root - INFO - R is 12\n",
      "2016-08-29 13:18:50,299 - root - INFO - N is 10\n",
      "2016-08-29 13:18:50,299 - root - INFO - Bpref result: bpref = 0.6666666666666665 = (1.0 / 12) * 7.999999999999999\n"
     ]
    }
   ],
   "source": [
    "# Iterate over first `at` results in the list of the results and compute Bpref on documents with known (i)relevance\n",
    "bpref_at_suitable(ground_truth, results)"
   ]
  },
  {
   "cell_type": "markdown",
   "metadata": {},
   "source": [
    "### Bpref@5\n",
    "\n",
    "Number of results (*x* = 5) is lower than number of known relevant documents in ground truth (*R*)."
   ]
  },
  {
   "cell_type": "code",
   "execution_count": 8,
   "metadata": {
    "collapsed": false,
    "scrolled": true
   },
   "outputs": [
    {
     "name": "stderr",
     "output_type": "stream",
     "text": [
      "2016-08-29 13:18:50,330 - root - INFO - R is 12\n",
      "2016-08-29 13:18:50,330 - root - INFO - N is 10\n",
      "2016-08-29 13:18:50,331 - root - INFO - Bpref result: bpref = 0.74 = (1.0 / 5) * 3.6999999999999997\n"
     ]
    }
   ],
   "source": [
    "# Iterate over first `at` results in the list of the results and compute Bpref on documents with known (i)relevance\n",
    "bpref_at_suitable(ground_truth, results, at)"
   ]
  },
  {
   "cell_type": "markdown",
   "metadata": {},
   "source": [
    "# Other Experiments"
   ]
  },
  {
   "cell_type": "code",
   "execution_count": 9,
   "metadata": {
    "collapsed": false
   },
   "outputs": [
    {
     "name": "stderr",
     "output_type": "stream",
     "text": [
      "2016-08-29 13:18:50,363 - root - INFO - R is 13\n",
      "2016-08-29 13:18:50,364 - root - INFO - N is 9\n",
      "2016-08-29 13:18:50,364 - root - INFO - Bpref result: bpref = 0.38461538461538464 = (1.0 / 13) * 5.0\n",
      "2016-08-29 13:18:50,365 - root - INFO - R is 13\n",
      "2016-08-29 13:18:50,365 - root - INFO - N is 9\n",
      "2016-08-29 13:18:50,366 - root - INFO - Bpref result: bpref = 1.0 = (1.0 / 5) * 5.0\n"
     ]
    }
   ],
   "source": [
    "ground_truth = [\n",
    "    # topic_id,  document_id,  judgement\n",
    "    ('topic_1', 'document_a', 'relevant'),\n",
    "    #('topic_1', 'document_b', 'irelevant'),\n",
    "    ('topic_1', 'document_b', 'relevant'),\n",
    "    ('topic_1', 'document_c', 'relevant'),\n",
    "    ('topic_1', 'document_d', 'relevant'),\n",
    "    ('topic_1', 'document_e', 'relevant'),\n",
    "    ('topic_1', 'document_f', 'irelevant'),\n",
    "    ('topic_1', 'document_h', 'relevant'),\n",
    "    ('topic_1', 'document_i', 'relevant'),\n",
    "    ('topic_1', 'document_j', 'relevant'),\n",
    "    ('topic_1', 'document_k', 'relevant'),\n",
    "    ('topic_1', 'document_l', 'irelevant'),\n",
    "    ('topic_1', 'document_m', 'irelevant'),\n",
    "    ('topic_1', 'document_n', 'relevant'),\n",
    "    ('topic_1', 'document_p', 'irelevant'),\n",
    "    ('topic_1', 'document_q', 'irelevant'),\n",
    "    ('topic_1', 'document_r', 'relevant'),\n",
    "    ('topic_1', 'document_s', 'irelevant'),\n",
    "    ('topic_1', 'document_t', 'irelevant'),\n",
    "    ('topic_1', 'document_u', 'irelevant'),\n",
    "    ('topic_1', 'document_w', 'relevant'),\n",
    "    ('topic_1', 'document_x', 'irelevant'),\n",
    "    ('topic_1', 'document_z', 'relevant'),\n",
    "]\n",
    "results = [\n",
    "    # topic_id,  document_id, position, score, judgement\n",
    "    ('topic_1', 'document_a', 0,  1.00, 'relevant'),\n",
    "    #('topic_1', 'document_b', 1,  1.00, 'irelevant'),\n",
    "    ('topic_1', 'document_b', 1,  1.00, 'relevant'),\n",
    "    ('topic_1', 'document_c', 2,  1.00, 'relevant'),\n",
    "    ('topic_1', 'document_d', 3,  1.00, 'relevant'),\n",
    "    ('topic_1', 'document_e', 4,  1.00, 'relevant'),\n",
    "    ('topic_1', 'document_f', 5,  1.00, 'irelevant'),\n",
    "    ('topic_1', 'document_g', 6,  1.00, 'not judged'),\n",
    "    ('topic_1', 'document_h', 7,  1.00, 'relevant'),\n",
    "    ('topic_1', 'document_i', 8,  0.98, 'relevant'),\n",
    "    ('topic_1', 'document_j', 9,  0.97, 'relevant'),\n",
    "    ('topic_1', 'document_k', 10, 0.93, 'relevant'),\n",
    "    ('topic_1', 'document_l', 11, 0.93, 'irelevant'),\n",
    "    ('topic_1', 'document_m', 12, 0.93, 'irelevant'),\n",
    "    ('topic_1', 'document_n', 13, 0.93, 'relevant'),\n",
    "    ('topic_1', 'document_o', 14, 0.93, 'not judged'),\n",
    "    ('topic_1', 'document_p', 15, 0.93, 'irelevant'),\n",
    "    ('topic_1', 'document_q', 16, 0.93, 'irelevant'),\n",
    "    ('topic_1', 'document_r', 17, 0.93, 'relevant'),\n",
    "    ('topic_1', 'document_s', 18, 0.92, 'irelevant'),\n",
    "    ('topic_1', 'document_t', 19, 0.92, 'irelevant'),\n",
    "    ('topic_1', 'document_u', 20, 0.91, 'irelevant'),\n",
    "    ('topic_1', 'document_v', 21, 0.89, 'not judged'),\n",
    "    ('topic_1', 'document_w', 22, 0.88, 'relevant'),\n",
    "    ('topic_1', 'document_x', 23, 0.88, 'irelevant'),\n",
    "    ('topic_1', 'document_y', 24, 0.83, 'not judged'),\n",
    "    ('topic_1', 'document_z', 25, 0.83, 'relevant'),\n",
    "]\n",
    "bpref_trec_eval(ground_truth, results, at)\n",
    "bpref_at_suitable(ground_truth, results, at)"
   ]
  },
  {
   "cell_type": "code",
   "execution_count": 10,
   "metadata": {
    "collapsed": false
   },
   "outputs": [
    {
     "name": "stderr",
     "output_type": "stream",
     "text": [
      "2016-08-29 13:18:50,396 - root - INFO - R is 8\n",
      "2016-08-29 13:18:50,396 - root - INFO - N is 14\n",
      "2016-08-29 13:18:50,397 - root - INFO - Bpref result: bpref = 0.0 = (1.0 / 8) * 0.0\n",
      "2016-08-29 13:18:50,397 - root - INFO - R is 8\n",
      "2016-08-29 13:18:50,398 - root - INFO - N is 14\n",
      "2016-08-29 13:18:50,398 - root - INFO - Bpref result: bpref = 0.0 = (1.0 / 5) * 0.0\n"
     ]
    }
   ],
   "source": [
    "ground_truth = [\n",
    "    # topic_id,  document_id,  judgement\n",
    "    #('topic_1', 'document_a', 'relevant'),\n",
    "    ('topic_1', 'document_a', 'irelevant'),\n",
    "    ('topic_1', 'document_b', 'irelevant'),\n",
    "    #('topic_1', 'document_c', 'relevant'),\n",
    "    #('topic_1', 'document_d', 'relevant'),\n",
    "    #('topic_1', 'document_e', 'relevant'),\n",
    "    ('topic_1', 'document_c', 'irelevant'),\n",
    "    ('topic_1', 'document_d', 'irelevant'),\n",
    "    ('topic_1', 'document_e', 'irelevant'),\n",
    "    ('topic_1', 'document_f', 'irelevant'),\n",
    "    ('topic_1', 'document_h', 'relevant'),\n",
    "    ('topic_1', 'document_i', 'relevant'),\n",
    "    ('topic_1', 'document_j', 'relevant'),\n",
    "    ('topic_1', 'document_k', 'relevant'),\n",
    "    ('topic_1', 'document_l', 'irelevant'),\n",
    "    ('topic_1', 'document_m', 'irelevant'),\n",
    "    ('topic_1', 'document_n', 'relevant'),\n",
    "    ('topic_1', 'document_p', 'irelevant'),\n",
    "    ('topic_1', 'document_q', 'irelevant'),\n",
    "    ('topic_1', 'document_r', 'relevant'),\n",
    "    ('topic_1', 'document_s', 'irelevant'),\n",
    "    ('topic_1', 'document_t', 'irelevant'),\n",
    "    ('topic_1', 'document_u', 'irelevant'),\n",
    "    ('topic_1', 'document_w', 'relevant'),\n",
    "    ('topic_1', 'document_x', 'irelevant'),\n",
    "    ('topic_1', 'document_z', 'relevant'),\n",
    "]\n",
    "results = [\n",
    "    # topic_id,  document_id, position, score, judgement\n",
    "    #('topic_1', 'document_a', 0,  1.00, 'relevant'),\n",
    "    ('topic_1', 'document_a', 0,  1.00, 'irelevant'),\n",
    "    ('topic_1', 'document_b', 1,  1.00, 'irelevant'),\n",
    "    #('topic_1', 'document_c', 2,  1.00, 'relevant'),\n",
    "    #('topic_1', 'document_d', 3,  1.00, 'relevant'),\n",
    "    #('topic_1', 'document_e', 4,  1.00, 'relevant'),\n",
    "    ('topic_1', 'document_c', 2,  1.00, 'irelevant'),\n",
    "    ('topic_1', 'document_d', 3,  1.00, 'irelevant'),\n",
    "    ('topic_1', 'document_e', 4,  1.00, 'irelevant'),\n",
    "    ('topic_1', 'document_f', 5,  1.00, 'irelevant'),\n",
    "    ('topic_1', 'document_g', 6,  1.00, 'not judged'),\n",
    "    ('topic_1', 'document_h', 7,  1.00, 'relevant'),\n",
    "    ('topic_1', 'document_i', 8,  0.98, 'relevant'),\n",
    "    ('topic_1', 'document_j', 9,  0.97, 'relevant'),\n",
    "    ('topic_1', 'document_k', 10, 0.93, 'relevant'),\n",
    "    ('topic_1', 'document_l', 11, 0.93, 'irelevant'),\n",
    "    ('topic_1', 'document_m', 12, 0.93, 'irelevant'),\n",
    "    ('topic_1', 'document_n', 13, 0.93, 'relevant'),\n",
    "    ('topic_1', 'document_o', 14, 0.93, 'not judged'),\n",
    "    ('topic_1', 'document_p', 15, 0.93, 'irelevant'),\n",
    "    ('topic_1', 'document_q', 16, 0.93, 'irelevant'),\n",
    "    ('topic_1', 'document_r', 17, 0.93, 'relevant'),\n",
    "    ('topic_1', 'document_s', 18, 0.92, 'irelevant'),\n",
    "    ('topic_1', 'document_t', 19, 0.92, 'irelevant'),\n",
    "    ('topic_1', 'document_u', 20, 0.91, 'irelevant'),\n",
    "    ('topic_1', 'document_v', 21, 0.89, 'not judged'),\n",
    "    ('topic_1', 'document_w', 22, 0.88, 'relevant'),\n",
    "    ('topic_1', 'document_x', 23, 0.88, 'irelevant'),\n",
    "    ('topic_1', 'document_y', 24, 0.83, 'not judged'),\n",
    "    ('topic_1', 'document_z', 25, 0.83, 'relevant'),\n",
    "]\n",
    "bpref_trec_eval(ground_truth, results, at)\n",
    "bpref_at_suitable(ground_truth, results, at)"
   ]
  },
  {
   "cell_type": "code",
   "execution_count": 11,
   "metadata": {
    "collapsed": false
   },
   "outputs": [
    {
     "name": "stderr",
     "output_type": "stream",
     "text": [
      "2016-08-29 13:18:50,429 - root - INFO - R is 11\n",
      "2016-08-29 13:18:50,429 - root - INFO - N is 11\n",
      "2016-08-29 13:18:50,430 - root - INFO - Bpref result: bpref = 0.2479338842975207 = (1.0 / 11) * 2.7272727272727275\n",
      "2016-08-29 13:18:50,430 - root - INFO - R is 11\n",
      "2016-08-29 13:18:50,430 - root - INFO - N is 11\n",
      "2016-08-29 13:18:50,431 - root - INFO - Bpref result: bpref = 0.5454545454545455 = (1.0 / 5) * 2.7272727272727275\n"
     ]
    }
   ],
   "source": [
    "ground_truth = [\n",
    "    # topic_id,  document_id,  judgement\n",
    "    ('topic_1', 'document_a', 'relevant'),\n",
    "    ('topic_1', 'document_b', 'irelevant'),\n",
    "    ('topic_1', 'document_c', 'relevant'),\n",
    "    #('topic_1', 'document_d', 'relevant'),\n",
    "    ('topic_1', 'document_d', 'irelevant'),\n",
    "    ('topic_1', 'document_e', 'relevant'),\n",
    "    ('topic_1', 'document_f', 'irelevant'),\n",
    "    ('topic_1', 'document_h', 'relevant'),\n",
    "    ('topic_1', 'document_i', 'relevant'),\n",
    "    ('topic_1', 'document_j', 'relevant'),\n",
    "    ('topic_1', 'document_k', 'relevant'),\n",
    "    ('topic_1', 'document_l', 'irelevant'),\n",
    "    ('topic_1', 'document_m', 'irelevant'),\n",
    "    ('topic_1', 'document_n', 'relevant'),\n",
    "    ('topic_1', 'document_p', 'irelevant'),\n",
    "    ('topic_1', 'document_q', 'irelevant'),\n",
    "    ('topic_1', 'document_r', 'relevant'),\n",
    "    ('topic_1', 'document_s', 'irelevant'),\n",
    "    ('topic_1', 'document_t', 'irelevant'),\n",
    "    ('topic_1', 'document_u', 'irelevant'),\n",
    "    ('topic_1', 'document_w', 'relevant'),\n",
    "    ('topic_1', 'document_x', 'irelevant'),\n",
    "    ('topic_1', 'document_z', 'relevant'),\n",
    "]\n",
    "results = [\n",
    "    # topic_id,  document_id, position, score, judgement\n",
    "    ('topic_1', 'document_a', 0,  1.00, 'relevant'),\n",
    "    ('topic_1', 'document_b', 1,  1.00, 'irelevant'),\n",
    "    ('topic_1', 'document_c', 2,  1.00, 'relevant'),\n",
    "    #('topic_1', 'document_d', 3,  1.00, 'relevant'),\n",
    "    ('topic_1', 'document_d', 3,  1.00, 'irelevant'),\n",
    "    ('topic_1', 'document_e', 4,  1.00, 'relevant'),\n",
    "    ('topic_1', 'document_f', 5,  1.00, 'irelevant'),\n",
    "    ('topic_1', 'document_g', 6,  1.00, 'not judged'),\n",
    "    ('topic_1', 'document_h', 7,  1.00, 'relevant'),\n",
    "    ('topic_1', 'document_i', 8,  0.98, 'relevant'),\n",
    "    ('topic_1', 'document_j', 9,  0.97, 'relevant'),\n",
    "    ('topic_1', 'document_k', 10, 0.93, 'relevant'),\n",
    "    ('topic_1', 'document_l', 11, 0.93, 'irelevant'),\n",
    "    ('topic_1', 'document_m', 12, 0.93, 'irelevant'),\n",
    "    ('topic_1', 'document_n', 13, 0.93, 'relevant'),\n",
    "    ('topic_1', 'document_o', 14, 0.93, 'not judged'),\n",
    "    ('topic_1', 'document_p', 15, 0.93, 'irelevant'),\n",
    "    ('topic_1', 'document_q', 16, 0.93, 'irelevant'),\n",
    "    ('topic_1', 'document_r', 17, 0.93, 'relevant'),\n",
    "    ('topic_1', 'document_s', 18, 0.92, 'irelevant'),\n",
    "    ('topic_1', 'document_t', 19, 0.92, 'irelevant'),\n",
    "    ('topic_1', 'document_u', 20, 0.91, 'irelevant'),\n",
    "    ('topic_1', 'document_v', 21, 0.89, 'not judged'),\n",
    "    ('topic_1', 'document_w', 22, 0.88, 'relevant'),\n",
    "    ('topic_1', 'document_x', 23, 0.88, 'irelevant'),\n",
    "    ('topic_1', 'document_y', 24, 0.83, 'not judged'),\n",
    "    ('topic_1', 'document_z', 25, 0.83, 'relevant'),\n",
    "]\n",
    "bpref_trec_eval(ground_truth, results, at)\n",
    "bpref_at_suitable(ground_truth, results, at)"
   ]
  },
  {
   "cell_type": "code",
   "execution_count": 12,
   "metadata": {
    "collapsed": false
   },
   "outputs": [
    {
     "name": "stderr",
     "output_type": "stream",
     "text": [
      "2016-08-29 13:18:50,462 - root - INFO - R is 10\n",
      "2016-08-29 13:18:50,462 - root - INFO - N is 12\n",
      "2016-08-29 13:18:50,463 - root - INFO - Bpref result: bpref = 0.15000000000000002 = (1.0 / 10) * 1.5\n",
      "2016-08-29 13:18:50,463 - root - INFO - R is 10\n",
      "2016-08-29 13:18:50,464 - root - INFO - N is 12\n",
      "2016-08-29 13:18:50,464 - root - INFO - Bpref result: bpref = 0.30000000000000004 = (1.0 / 5) * 1.5\n"
     ]
    }
   ],
   "source": [
    "ground_truth = [\n",
    "    # topic_id,  document_id,  judgement\n",
    "    #('topic_1', 'document_a', 'relevant'),\n",
    "    ('topic_1', 'document_a', 'irelevant'),\n",
    "    ('topic_1', 'document_b', 'irelevant'),\n",
    "    ('topic_1', 'document_c', 'relevant'),\n",
    "    #('topic_1', 'document_d', 'relevant'),\n",
    "    ('topic_1', 'document_d', 'irelevant'),\n",
    "    ('topic_1', 'document_e', 'relevant'),\n",
    "    ('topic_1', 'document_f', 'irelevant'),\n",
    "    ('topic_1', 'document_h', 'relevant'),\n",
    "    ('topic_1', 'document_i', 'relevant'),\n",
    "    ('topic_1', 'document_j', 'relevant'),\n",
    "    ('topic_1', 'document_k', 'relevant'),\n",
    "    ('topic_1', 'document_l', 'irelevant'),\n",
    "    ('topic_1', 'document_m', 'irelevant'),\n",
    "    ('topic_1', 'document_n', 'relevant'),\n",
    "    ('topic_1', 'document_p', 'irelevant'),\n",
    "    ('topic_1', 'document_q', 'irelevant'),\n",
    "    ('topic_1', 'document_r', 'relevant'),\n",
    "    ('topic_1', 'document_s', 'irelevant'),\n",
    "    ('topic_1', 'document_t', 'irelevant'),\n",
    "    ('topic_1', 'document_u', 'irelevant'),\n",
    "    ('topic_1', 'document_w', 'relevant'),\n",
    "    ('topic_1', 'document_x', 'irelevant'),\n",
    "    ('topic_1', 'document_z', 'relevant'),\n",
    "]\n",
    "results = [\n",
    "    # topic_id,  document_id, position, score, judgement\n",
    "    #('topic_1', 'document_a', 0,  1.00, 'relevant'),\n",
    "    ('topic_1', 'document_a', 0,  1.00, 'irelevant'),\n",
    "    ('topic_1', 'document_b', 1,  1.00, 'irelevant'),\n",
    "    ('topic_1', 'document_c', 2,  1.00, 'relevant'),\n",
    "    #('topic_1', 'document_d', 3,  1.00, 'relevant'),\n",
    "    ('topic_1', 'document_d', 3,  1.00, 'irelevant'),\n",
    "    ('topic_1', 'document_e', 4,  1.00, 'relevant'),\n",
    "    ('topic_1', 'document_f', 5,  1.00, 'irelevant'),\n",
    "    ('topic_1', 'document_g', 6,  1.00, 'not judged'),\n",
    "    ('topic_1', 'document_h', 7,  1.00, 'relevant'),\n",
    "    ('topic_1', 'document_i', 8,  0.98, 'relevant'),\n",
    "    ('topic_1', 'document_j', 9,  0.97, 'relevant'),\n",
    "    ('topic_1', 'document_k', 10, 0.93, 'relevant'),\n",
    "    ('topic_1', 'document_l', 11, 0.93, 'irelevant'),\n",
    "    ('topic_1', 'document_m', 12, 0.93, 'irelevant'),\n",
    "    ('topic_1', 'document_n', 13, 0.93, 'relevant'),\n",
    "    ('topic_1', 'document_o', 14, 0.93, 'not judged'),\n",
    "    ('topic_1', 'document_p', 15, 0.93, 'irelevant'),\n",
    "    ('topic_1', 'document_q', 16, 0.93, 'irelevant'),\n",
    "    ('topic_1', 'document_r', 17, 0.93, 'relevant'),\n",
    "    ('topic_1', 'document_s', 18, 0.92, 'irelevant'),\n",
    "    ('topic_1', 'document_t', 19, 0.92, 'irelevant'),\n",
    "    ('topic_1', 'document_u', 20, 0.91, 'irelevant'),\n",
    "    ('topic_1', 'document_v', 21, 0.89, 'not judged'),\n",
    "    ('topic_1', 'document_w', 22, 0.88, 'relevant'),\n",
    "    ('topic_1', 'document_x', 23, 0.88, 'irelevant'),\n",
    "    ('topic_1', 'document_y', 24, 0.83, 'not judged'),\n",
    "    ('topic_1', 'document_z', 25, 0.83, 'relevant'),\n",
    "]\n",
    "bpref_trec_eval(ground_truth, results, at)\n",
    "bpref_at_suitable(ground_truth, results, at)"
   ]
  },
  {
   "cell_type": "code",
   "execution_count": 13,
   "metadata": {
    "collapsed": false
   },
   "outputs": [
    {
     "name": "stderr",
     "output_type": "stream",
     "text": [
      "2016-08-29 13:18:50,495 - root - INFO - R is 9\n",
      "2016-08-29 13:18:50,495 - root - INFO - N is 13\n",
      "2016-08-29 13:18:50,496 - root - INFO - Bpref result: bpref = 0.08641975308641975 = (1.0 / 9) * 0.7777777777777778\n",
      "2016-08-29 13:18:50,496 - root - INFO - R is 9\n",
      "2016-08-29 13:18:50,497 - root - INFO - N is 13\n",
      "2016-08-29 13:18:50,497 - root - INFO - Bpref result: bpref = 0.15555555555555556 = (1.0 / 5) * 0.7777777777777778\n"
     ]
    }
   ],
   "source": [
    "ground_truth = [\n",
    "    # topic_id,  document_id,  judgement\n",
    "    #('topic_1', 'document_a', 'relevant'),\n",
    "    ('topic_1', 'document_a', 'irelevant'),\n",
    "    ('topic_1', 'document_b', 'irelevant'),\n",
    "    ('topic_1', 'document_c', 'relevant'),\n",
    "    #('topic_1', 'document_d', 'relevant'),\n",
    "    ('topic_1', 'document_d', 'irelevant'),\n",
    "    #('topic_1', 'document_e', 'relevant'),\n",
    "    ('topic_1', 'document_e', 'irelevant'),\n",
    "    ('topic_1', 'document_f', 'irelevant'),\n",
    "    ('topic_1', 'document_h', 'relevant'),\n",
    "    ('topic_1', 'document_i', 'relevant'),\n",
    "    ('topic_1', 'document_j', 'relevant'),\n",
    "    ('topic_1', 'document_k', 'relevant'),\n",
    "    ('topic_1', 'document_l', 'irelevant'),\n",
    "    ('topic_1', 'document_m', 'irelevant'),\n",
    "    ('topic_1', 'document_n', 'relevant'),\n",
    "    ('topic_1', 'document_p', 'irelevant'),\n",
    "    ('topic_1', 'document_q', 'irelevant'),\n",
    "    ('topic_1', 'document_r', 'relevant'),\n",
    "    ('topic_1', 'document_s', 'irelevant'),\n",
    "    ('topic_1', 'document_t', 'irelevant'),\n",
    "    ('topic_1', 'document_u', 'irelevant'),\n",
    "    ('topic_1', 'document_w', 'relevant'),\n",
    "    ('topic_1', 'document_x', 'irelevant'),\n",
    "    ('topic_1', 'document_z', 'relevant'),\n",
    "]\n",
    "results = [\n",
    "    # topic_id,  document_id, position, score, judgement\n",
    "    #('topic_1', 'document_a', 0,  1.00, 'relevant'),\n",
    "    ('topic_1', 'document_a', 0,  1.00, 'irelevant'),\n",
    "    ('topic_1', 'document_b', 1,  1.00, 'irelevant'),\n",
    "    ('topic_1', 'document_c', 2,  1.00, 'relevant'),\n",
    "    #('topic_1', 'document_d', 3,  1.00, 'relevant'),\n",
    "    ('topic_1', 'document_d', 3,  1.00, 'irelevant'),\n",
    "    #('topic_1', 'document_e', 4,  1.00, 'relevant'),\n",
    "    ('topic_1', 'document_e', 4,  1.00, 'irelevant'),\n",
    "    ('topic_1', 'document_f', 5,  1.00, 'irelevant'),\n",
    "    ('topic_1', 'document_g', 6,  1.00, 'not judged'),\n",
    "    ('topic_1', 'document_h', 7,  1.00, 'relevant'),\n",
    "    ('topic_1', 'document_i', 8,  0.98, 'relevant'),\n",
    "    ('topic_1', 'document_j', 9,  0.97, 'relevant'),\n",
    "    ('topic_1', 'document_k', 10, 0.93, 'relevant'),\n",
    "    ('topic_1', 'document_l', 11, 0.93, 'irelevant'),\n",
    "    ('topic_1', 'document_m', 12, 0.93, 'irelevant'),\n",
    "    ('topic_1', 'document_n', 13, 0.93, 'relevant'),\n",
    "    ('topic_1', 'document_o', 14, 0.93, 'not judged'),\n",
    "    ('topic_1', 'document_p', 15, 0.93, 'irelevant'),\n",
    "    ('topic_1', 'document_q', 16, 0.93, 'irelevant'),\n",
    "    ('topic_1', 'document_r', 17, 0.93, 'relevant'),\n",
    "    ('topic_1', 'document_s', 18, 0.92, 'irelevant'),\n",
    "    ('topic_1', 'document_t', 19, 0.92, 'irelevant'),\n",
    "    ('topic_1', 'document_u', 20, 0.91, 'irelevant'),\n",
    "    ('topic_1', 'document_v', 21, 0.89, 'not judged'),\n",
    "    ('topic_1', 'document_w', 22, 0.88, 'relevant'),\n",
    "    ('topic_1', 'document_x', 23, 0.88, 'irelevant'),\n",
    "    ('topic_1', 'document_y', 24, 0.83, 'not judged'),\n",
    "    ('topic_1', 'document_z', 25, 0.83, 'relevant'),\n",
    "]\n",
    "bpref_trec_eval(ground_truth, results, at)\n",
    "bpref_at_suitable(ground_truth, results, at)"
   ]
  },
  {
   "cell_type": "code",
   "execution_count": 14,
   "metadata": {
    "collapsed": false
   },
   "outputs": [
    {
     "name": "stderr",
     "output_type": "stream",
     "text": [
      "2016-08-29 13:18:50,528 - root - INFO - R is 12\n",
      "2016-08-29 13:18:50,528 - root - INFO - N is 10\n",
      "2016-08-29 13:18:50,529 - root - INFO - Bpref result: bpref = 0.3 = (1.0 / 12) * 3.6\n",
      "2016-08-29 13:18:50,529 - root - INFO - R is 12\n",
      "2016-08-29 13:18:50,530 - root - INFO - N is 10\n",
      "2016-08-29 13:18:50,530 - root - INFO - Bpref result: bpref = 0.7200000000000001 = (1.0 / 5) * 3.6\n"
     ]
    }
   ],
   "source": [
    "ground_truth = [\n",
    "    # topic_id,  document_id,  judgement\n",
    "    #('topic_1', 'document_a', 'relevant'),\n",
    "    #('topic_1', 'document_b', 'irelevant'),\n",
    "    ('topic_1', 'document_a', 'irelevant'),\n",
    "    ('topic_1', 'document_b', 'relevant'),\n",
    "    ('topic_1', 'document_c', 'relevant'),\n",
    "    ('topic_1', 'document_d', 'relevant'),\n",
    "    ('topic_1', 'document_e', 'relevant'),\n",
    "    ('topic_1', 'document_f', 'irelevant'),\n",
    "    ('topic_1', 'document_h', 'relevant'),\n",
    "    ('topic_1', 'document_i', 'relevant'),\n",
    "    ('topic_1', 'document_j', 'relevant'),\n",
    "    ('topic_1', 'document_k', 'relevant'),\n",
    "    ('topic_1', 'document_l', 'irelevant'),\n",
    "    ('topic_1', 'document_m', 'irelevant'),\n",
    "    ('topic_1', 'document_n', 'relevant'),\n",
    "    ('topic_1', 'document_p', 'irelevant'),\n",
    "    ('topic_1', 'document_q', 'irelevant'),\n",
    "    ('topic_1', 'document_r', 'relevant'),\n",
    "    ('topic_1', 'document_s', 'irelevant'),\n",
    "    ('topic_1', 'document_t', 'irelevant'),\n",
    "    ('topic_1', 'document_u', 'irelevant'),\n",
    "    ('topic_1', 'document_w', 'relevant'),\n",
    "    ('topic_1', 'document_x', 'irelevant'),\n",
    "    ('topic_1', 'document_z', 'relevant'),\n",
    "]\n",
    "results = [\n",
    "    # topic_id,  document_id, position, score, judgement\n",
    "    #('topic_1', 'document_a', 0,  1.00, 'relevant'),\n",
    "    #('topic_1', 'document_b', 1,  1.00, 'irelevant'),\n",
    "    ('topic_1', 'document_a', 0,  1.00, 'irelevant'),\n",
    "    ('topic_1', 'document_b', 1,  1.00, 'relevant'),\n",
    "    ('topic_1', 'document_c', 2,  1.00, 'relevant'),\n",
    "    ('topic_1', 'document_d', 3,  1.00, 'relevant'),\n",
    "    ('topic_1', 'document_e', 4,  1.00, 'relevant'),\n",
    "    ('topic_1', 'document_f', 5,  1.00, 'irelevant'),\n",
    "    ('topic_1', 'document_g', 6,  1.00, 'not judged'),\n",
    "    ('topic_1', 'document_h', 7,  1.00, 'relevant'),\n",
    "    ('topic_1', 'document_i', 8,  0.98, 'relevant'),\n",
    "    ('topic_1', 'document_j', 9,  0.97, 'relevant'),\n",
    "    ('topic_1', 'document_k', 10, 0.93, 'relevant'),\n",
    "    ('topic_1', 'document_l', 11, 0.93, 'irelevant'),\n",
    "    ('topic_1', 'document_m', 12, 0.93, 'irelevant'),\n",
    "    ('topic_1', 'document_n', 13, 0.93, 'relevant'),\n",
    "    ('topic_1', 'document_o', 14, 0.93, 'not judged'),\n",
    "    ('topic_1', 'document_p', 15, 0.93, 'irelevant'),\n",
    "    ('topic_1', 'document_q', 16, 0.93, 'irelevant'),\n",
    "    ('topic_1', 'document_r', 17, 0.93, 'relevant'),\n",
    "    ('topic_1', 'document_s', 18, 0.92, 'irelevant'),\n",
    "    ('topic_1', 'document_t', 19, 0.92, 'irelevant'),\n",
    "    ('topic_1', 'document_u', 20, 0.91, 'irelevant'),\n",
    "    ('topic_1', 'document_v', 21, 0.89, 'not judged'),\n",
    "    ('topic_1', 'document_w', 22, 0.88, 'relevant'),\n",
    "    ('topic_1', 'document_x', 23, 0.88, 'irelevant'),\n",
    "    ('topic_1', 'document_y', 24, 0.83, 'not judged'),\n",
    "    ('topic_1', 'document_z', 25, 0.83, 'relevant'),\n",
    "]\n",
    "bpref_trec_eval(ground_truth, results, at)\n",
    "bpref_at_suitable(ground_truth, results, at)"
   ]
  }
 ],
 "metadata": {
  "kernelspec": {
   "display_name": "Python 3",
   "language": "python",
   "name": "python3"
  },
  "language_info": {
   "codemirror_mode": {
    "name": "ipython",
    "version": 3
   },
   "file_extension": ".py",
   "mimetype": "text/x-python",
   "name": "python",
   "nbconvert_exporter": "python",
   "pygments_lexer": "ipython3",
   "version": "3.4.5"
  }
 },
 "nbformat": 4,
 "nbformat_minor": 0
}
